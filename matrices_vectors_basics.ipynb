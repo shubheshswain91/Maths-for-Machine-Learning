{
  "nbformat": 4,
  "nbformat_minor": 0,
  "metadata": {
    "colab": {
      "name": "matrices_vectors_basics.ipynb",
      "provenance": [],
      "collapsed_sections": [],
      "authorship_tag": "ABX9TyNj0+ltcrdnd42ml1yoS5nK",
      "include_colab_link": true
    },
    "kernelspec": {
      "name": "python3",
      "display_name": "Python 3"
    },
    "language_info": {
      "name": "python"
    }
  },
  "cells": [
    {
      "cell_type": "markdown",
      "metadata": {
        "id": "view-in-github",
        "colab_type": "text"
      },
      "source": [
        "<a href=\"https://colab.research.google.com/github/shubheshswain91/Maths-for-Machine-Learning/blob/main/matrices_vectors_basics.ipynb\" target=\"_parent\"><img src=\"https://colab.research.google.com/assets/colab-badge.svg\" alt=\"Open In Colab\"/></a>"
      ]
    },
    {
      "cell_type": "code",
      "metadata": {
        "id": "X7Mpnt9f4bTn"
      },
      "source": [
        "import numpy as np"
      ],
      "execution_count": 1,
      "outputs": []
    },
    {
      "cell_type": "markdown",
      "metadata": {
        "id": "fz4Cti514jml"
      },
      "source": [
        "**Adding and subtracting matrices**"
      ]
    },
    {
      "cell_type": "code",
      "metadata": {
        "id": "mDImHSZe4sQ2"
      },
      "source": [
        "matrix_a = np.array([[1,1,1],\n",
        "                    [1,1,1],\n",
        "                    [1,1,2]])"
      ],
      "execution_count": 3,
      "outputs": []
    },
    {
      "cell_type": "code",
      "metadata": {
        "id": "Hjdnflup4-L2"
      },
      "source": [
        "matrix_b = np.array([[1,3,1],\n",
        "                     [1,3,1],\n",
        "                     [1,3,8]])"
      ],
      "execution_count": 4,
      "outputs": []
    },
    {
      "cell_type": "code",
      "metadata": {
        "colab": {
          "base_uri": "https://localhost:8080/"
        },
        "id": "-6qAWnIe5Rds",
        "outputId": "2afd56d0-23c0-4b35-ce01-15b17815f06f"
      },
      "source": [
        "np.add(matrix_a, matrix_b)"
      ],
      "execution_count": 5,
      "outputs": [
        {
          "output_type": "execute_result",
          "data": {
            "text/plain": [
              "array([[ 2,  4,  2],\n",
              "       [ 2,  4,  2],\n",
              "       [ 2,  4, 10]])"
            ]
          },
          "metadata": {
            "tags": []
          },
          "execution_count": 5
        }
      ]
    },
    {
      "cell_type": "code",
      "metadata": {
        "colab": {
          "base_uri": "https://localhost:8080/"
        },
        "id": "ogEdI_j97ItV",
        "outputId": "72ce75fb-5fb8-43e8-9d01-f9bb6af18776"
      },
      "source": [
        "np.subtract(matrix_a, matrix_b)"
      ],
      "execution_count": 6,
      "outputs": [
        {
          "output_type": "execute_result",
          "data": {
            "text/plain": [
              "array([[ 0, -2,  0],\n",
              "       [ 0, -2,  0],\n",
              "       [ 0, -2, -6]])"
            ]
          },
          "metadata": {
            "tags": []
          },
          "execution_count": 6
        }
      ]
    },
    {
      "cell_type": "markdown",
      "metadata": {
        "id": "KMoxyTcf82l4"
      },
      "source": [
        "**Applying operation to the elements**"
      ]
    },
    {
      "cell_type": "code",
      "metadata": {
        "id": "svSwahtA7jmV"
      },
      "source": [
        "matrix = np.array([[1,2,3],\n",
        "                   [4,5,6],\n",
        "                   [7,8,9]])"
      ],
      "execution_count": 7,
      "outputs": []
    },
    {
      "cell_type": "markdown",
      "metadata": {
        "id": "YungysJy9OUZ"
      },
      "source": [
        "Create vectorized function"
      ]
    },
    {
      "cell_type": "code",
      "metadata": {
        "id": "YhoIHE_x9MKn"
      },
      "source": [
        "# Creates a functions that adds 100\n",
        "\n",
        "add_100 = lambda i: i + 100\n",
        "\n",
        "#Create a vectorized function\n",
        "\n",
        "vectorized_add_100 = np.vectorize(add_100)"
      ],
      "execution_count": 8,
      "outputs": []
    },
    {
      "cell_type": "code",
      "metadata": {
        "colab": {
          "base_uri": "https://localhost:8080/"
        },
        "id": "qHXdPEOK9r39",
        "outputId": "0b2514cf-bfa6-454c-ea16-3e93ab7f4228"
      },
      "source": [
        "# Apply function to elements\n",
        "\n",
        "vectorized_add_100(matrix)"
      ],
      "execution_count": 9,
      "outputs": [
        {
          "output_type": "execute_result",
          "data": {
            "text/plain": [
              "array([[101, 102, 103],\n",
              "       [104, 105, 106],\n",
              "       [107, 108, 109]])"
            ]
          },
          "metadata": {
            "tags": []
          },
          "execution_count": 9
        }
      ]
    },
    {
      "cell_type": "markdown",
      "metadata": {
        "id": "Y47A6jqj-QRJ"
      },
      "source": [
        "**Calculate Dot Product Of Two Vectors**"
      ]
    },
    {
      "cell_type": "code",
      "metadata": {
        "id": "5r94r4pF94fG"
      },
      "source": [
        "#create two vectors\n",
        "\n",
        "vector_a = np.array([1,2,3])\n",
        "\n",
        "vector_b = np.array([4,5,6])\n",
        "\n"
      ],
      "execution_count": 10,
      "outputs": []
    },
    {
      "cell_type": "code",
      "metadata": {
        "colab": {
          "base_uri": "https://localhost:8080/"
        },
        "id": "jFDrEzWZ-voV",
        "outputId": "88a34ec4-911d-402a-c1e7-8645f0d0cc3b"
      },
      "source": [
        "#method 1\n",
        "\n",
        "np.dot(vector_a, vector_b)"
      ],
      "execution_count": 11,
      "outputs": [
        {
          "output_type": "execute_result",
          "data": {
            "text/plain": [
              "32"
            ]
          },
          "metadata": {
            "tags": []
          },
          "execution_count": 11
        }
      ]
    },
    {
      "cell_type": "code",
      "metadata": {
        "colab": {
          "base_uri": "https://localhost:8080/"
        },
        "id": "YCGdLCa--8RV",
        "outputId": "dffca176-a7d1-4d6c-de99-3cd3f890e793"
      },
      "source": [
        "#method 2\n",
        "\n",
        "vector_a @ vector_b"
      ],
      "execution_count": 12,
      "outputs": [
        {
          "output_type": "execute_result",
          "data": {
            "text/plain": [
              "32"
            ]
          },
          "metadata": {
            "tags": []
          },
          "execution_count": 12
        }
      ]
    },
    {
      "cell_type": "code",
      "metadata": {
        "id": "8u85AYTO_NTG"
      },
      "source": [
        ""
      ],
      "execution_count": null,
      "outputs": []
    }
  ]
}