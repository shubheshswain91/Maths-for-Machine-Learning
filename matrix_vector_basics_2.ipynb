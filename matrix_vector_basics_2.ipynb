{
  "nbformat": 4,
  "nbformat_minor": 0,
  "metadata": {
    "colab": {
      "name": "matrix_vector_basics-2.ipynb",
      "provenance": [],
      "collapsed_sections": [],
      "authorship_tag": "ABX9TyNklpccQf9Q+LzkcxYg06ll",
      "include_colab_link": true
    },
    "kernelspec": {
      "name": "python3",
      "display_name": "Python 3"
    },
    "language_info": {
      "name": "python"
    }
  },
  "cells": [
    {
      "cell_type": "markdown",
      "metadata": {
        "id": "view-in-github",
        "colab_type": "text"
      },
      "source": [
        "<a href=\"https://colab.research.google.com/github/shubheshswain91/Maths-for-Machine-Learning/blob/main/matrix_vector_basics_2.ipynb\" target=\"_parent\"><img src=\"https://colab.research.google.com/assets/colab-badge.svg\" alt=\"Open In Colab\"/></a>"
      ]
    },
    {
      "cell_type": "markdown",
      "metadata": {
        "id": "xA4zxRBfAaO-"
      },
      "source": [
        "**Calculate The Average, Variance, And Standard Deviation**"
      ]
    },
    {
      "cell_type": "code",
      "metadata": {
        "id": "4JTI1wnFAIXB"
      },
      "source": [
        "import numpy as np"
      ],
      "execution_count": 1,
      "outputs": []
    },
    {
      "cell_type": "code",
      "metadata": {
        "id": "ZUZyptldAb-X"
      },
      "source": [
        "matrix = np.array([[1,2,3],\n",
        "                   [4,5,6],\n",
        "                   [7,8,9]])"
      ],
      "execution_count": 2,
      "outputs": []
    },
    {
      "cell_type": "code",
      "metadata": {
        "colab": {
          "base_uri": "https://localhost:8080/"
        },
        "id": "a8i1Iky8dne5",
        "outputId": "fbb4c682-2df4-442f-84a4-92a900ac5168"
      },
      "source": [
        "matrix.shape"
      ],
      "execution_count": 16,
      "outputs": [
        {
          "output_type": "execute_result",
          "data": {
            "text/plain": [
              "(3, 3)"
            ]
          },
          "metadata": {
            "tags": []
          },
          "execution_count": 16
        }
      ]
    },
    {
      "cell_type": "code",
      "metadata": {
        "colab": {
          "base_uri": "https://localhost:8080/"
        },
        "id": "W2e00rTcdqiO",
        "outputId": "a9ca143e-df83-473a-84ee-7df9978d8cd7"
      },
      "source": [
        "matrix.ndim"
      ],
      "execution_count": 17,
      "outputs": [
        {
          "output_type": "execute_result",
          "data": {
            "text/plain": [
              "2"
            ]
          },
          "metadata": {
            "tags": []
          },
          "execution_count": 17
        }
      ]
    },
    {
      "cell_type": "code",
      "metadata": {
        "colab": {
          "base_uri": "https://localhost:8080/"
        },
        "id": "KVTBb_QBdqvX",
        "outputId": "546d2097-adbb-4aaa-ba2a-e7005ba2e9a1"
      },
      "source": [
        "matrix.size"
      ],
      "execution_count": 18,
      "outputs": [
        {
          "output_type": "execute_result",
          "data": {
            "text/plain": [
              "9"
            ]
          },
          "metadata": {
            "tags": []
          },
          "execution_count": 18
        }
      ]
    },
    {
      "cell_type": "code",
      "metadata": {
        "colab": {
          "base_uri": "https://localhost:8080/"
        },
        "id": "GFALI5rHd6b-",
        "outputId": "547509e3-b240-4bad-f3f8-fd3acad4de5b"
      },
      "source": [
        "# Return matrix rank\n",
        "np.linalg.matrix_rank(matrix)"
      ],
      "execution_count": 19,
      "outputs": [
        {
          "output_type": "execute_result",
          "data": {
            "text/plain": [
              "2"
            ]
          },
          "metadata": {
            "tags": []
          },
          "execution_count": 19
        }
      ]
    },
    {
      "cell_type": "code",
      "metadata": {
        "colab": {
          "base_uri": "https://localhost:8080/"
        },
        "id": "K2f3n9N9Apmm",
        "outputId": "a14bf018-181b-476b-db29-1ae15ea26c0d"
      },
      "source": [
        "# Calculate mean\n",
        "\n",
        "np.mean(matrix)"
      ],
      "execution_count": 3,
      "outputs": [
        {
          "output_type": "execute_result",
          "data": {
            "text/plain": [
              "5.0"
            ]
          },
          "metadata": {
            "tags": []
          },
          "execution_count": 3
        }
      ]
    },
    {
      "cell_type": "code",
      "metadata": {
        "colab": {
          "base_uri": "https://localhost:8080/"
        },
        "id": "5Z9Bec22AvZO",
        "outputId": "9644f27b-8f75-4f0c-beee-1f3939d38496"
      },
      "source": [
        "# Variance\n",
        "\n",
        "np.var(matrix)"
      ],
      "execution_count": 4,
      "outputs": [
        {
          "output_type": "execute_result",
          "data": {
            "text/plain": [
              "6.666666666666667"
            ]
          },
          "metadata": {
            "tags": []
          },
          "execution_count": 4
        }
      ]
    },
    {
      "cell_type": "code",
      "metadata": {
        "colab": {
          "base_uri": "https://localhost:8080/"
        },
        "id": "c2OKnF6jBNwW",
        "outputId": "fc9ae8cb-2e15-46e5-9b98-dd48aac17f17"
      },
      "source": [
        "# Standard deviation\n",
        "\n",
        "np.std(matrix)"
      ],
      "execution_count": 5,
      "outputs": [
        {
          "output_type": "execute_result",
          "data": {
            "text/plain": [
              "2.581988897471611"
            ]
          },
          "metadata": {
            "tags": []
          },
          "execution_count": 5
        }
      ]
    },
    {
      "cell_type": "code",
      "metadata": {
        "colab": {
          "base_uri": "https://localhost:8080/"
        },
        "id": "YtMj8Sq9gj5u",
        "outputId": "25349948-80a3-49dc-889e-f47e022f93e3"
      },
      "source": [
        "# Flatten the matrix\n",
        "\n",
        "matrix.flatten()"
      ],
      "execution_count": 20,
      "outputs": [
        {
          "output_type": "execute_result",
          "data": {
            "text/plain": [
              "array([1, 2, 3, 4, 5, 6, 7, 8, 9])"
            ]
          },
          "metadata": {
            "tags": []
          },
          "execution_count": 20
        }
      ]
    },
    {
      "cell_type": "markdown",
      "metadata": {
        "id": "me287cPWBi0Z"
      },
      "source": [
        "**Determinant of matrix**"
      ]
    },
    {
      "cell_type": "code",
      "metadata": {
        "colab": {
          "base_uri": "https://localhost:8080/"
        },
        "id": "_UwsuFPPBaXm",
        "outputId": "fa6dc98c-b0f5-4fb9-b779-22001e05560f"
      },
      "source": [
        "np.linalg.det(matrix)"
      ],
      "execution_count": 6,
      "outputs": [
        {
          "output_type": "execute_result",
          "data": {
            "text/plain": [
              "0.0"
            ]
          },
          "metadata": {
            "tags": []
          },
          "execution_count": 6
        }
      ]
    },
    {
      "cell_type": "markdown",
      "metadata": {
        "id": "dDz9QEmtcICI"
      },
      "source": [
        "**Trace of a matrix*"
      ]
    },
    {
      "cell_type": "code",
      "metadata": {
        "colab": {
          "base_uri": "https://localhost:8080/"
        },
        "id": "fxxmFAkza0ie",
        "outputId": "3edda01d-361e-4da5-a5ce-28082266cb6d"
      },
      "source": [
        "matrix.diagonal().sum()"
      ],
      "execution_count": 7,
      "outputs": [
        {
          "output_type": "execute_result",
          "data": {
            "text/plain": [
              "15"
            ]
          },
          "metadata": {
            "tags": []
          },
          "execution_count": 7
        }
      ]
    },
    {
      "cell_type": "code",
      "metadata": {
        "id": "a7OfgxA7cN9V"
      },
      "source": [
        ""
      ],
      "execution_count": null,
      "outputs": []
    },
    {
      "cell_type": "markdown",
      "metadata": {
        "id": "eTpbOd7ucU8O"
      },
      "source": [
        "**Converting dictionary into matrixt**"
      ]
    },
    {
      "cell_type": "code",
      "metadata": {
        "id": "Pnw7HSvpcaXL"
      },
      "source": [
        "from sklearn.feature_extraction import DictVectorizer"
      ],
      "execution_count": 8,
      "outputs": []
    },
    {
      "cell_type": "code",
      "metadata": {
        "id": "e7RVKCypcd7s"
      },
      "source": [
        "data_dict = [{'Red': 2, 'Blue': 4},\n",
        "             {'Red': 4, 'Blue': 3},\n",
        "             {'Red': 1, 'Yellow': 2},\n",
        "             {'Red': 2, 'Yellow': 2}]"
      ],
      "execution_count": 9,
      "outputs": []
    },
    {
      "cell_type": "code",
      "metadata": {
        "colab": {
          "base_uri": "https://localhost:8080/"
        },
        "id": "lF4hyylMcilD",
        "outputId": "d4d97312-60a3-4de3-9fe0-78c8a4885802"
      },
      "source": [
        "# Create DictVectorizer object\n",
        "dictvectorizer = DictVectorizer(sparse=False)\n",
        "\n",
        "# Convert dictionary into feature matrix\n",
        "features = dictvectorizer.fit_transform(data_dict)\n",
        "\n",
        "# View feature matrix\n",
        "features"
      ],
      "execution_count": 10,
      "outputs": [
        {
          "output_type": "execute_result",
          "data": {
            "text/plain": [
              "array([[4., 2., 0.],\n",
              "       [3., 4., 0.],\n",
              "       [0., 1., 2.],\n",
              "       [0., 2., 2.]])"
            ]
          },
          "metadata": {
            "tags": []
          },
          "execution_count": 10
        }
      ]
    },
    {
      "cell_type": "code",
      "metadata": {
        "colab": {
          "base_uri": "https://localhost:8080/"
        },
        "id": "w9WJGYrhcm6c",
        "outputId": "2864d945-0d23-44b5-c504-1fddf7961a1f"
      },
      "source": [
        "# View feature matrix column names\n",
        "dictvectorizer.get_feature_names()"
      ],
      "execution_count": 11,
      "outputs": [
        {
          "output_type": "execute_result",
          "data": {
            "text/plain": [
              "['Blue', 'Red', 'Yellow']"
            ]
          },
          "metadata": {
            "tags": []
          },
          "execution_count": 11
        }
      ]
    },
    {
      "cell_type": "markdown",
      "metadata": {
        "id": "M82gY065dB0P"
      },
      "source": [
        "**Create Sparse matrix**"
      ]
    },
    {
      "cell_type": "code",
      "metadata": {
        "id": "tAzfKPt1cvs0"
      },
      "source": [
        "from scipy import sparse"
      ],
      "execution_count": 12,
      "outputs": []
    },
    {
      "cell_type": "code",
      "metadata": {
        "id": "-GEk7HxTdNNk"
      },
      "source": [
        "# Create a matrix\n",
        "matrix_a = np.array([[0, 0],\n",
        "                   [0, 1],\n",
        "                   [3, 0]])"
      ],
      "execution_count": 13,
      "outputs": []
    },
    {
      "cell_type": "code",
      "metadata": {
        "id": "NNqB1KHwdSM8"
      },
      "source": [
        "# Create compressed sparse row (CSR) matrix\n",
        "matrix_sparse = sparse.csr_matrix(matrix_a)"
      ],
      "execution_count": 14,
      "outputs": []
    },
    {
      "cell_type": "code",
      "metadata": {
        "colab": {
          "base_uri": "https://localhost:8080/"
        },
        "id": "mOe_9RZ8dWmM",
        "outputId": "a584c2ba-ba5b-4332-a9d8-732b4a22ef32"
      },
      "source": [
        "matrix_sparse"
      ],
      "execution_count": 15,
      "outputs": [
        {
          "output_type": "execute_result",
          "data": {
            "text/plain": [
              "<3x2 sparse matrix of type '<class 'numpy.longlong'>'\n",
              "\twith 2 stored elements in Compressed Sparse Row format>"
            ]
          },
          "metadata": {
            "tags": []
          },
          "execution_count": 15
        }
      ]
    },
    {
      "cell_type": "code",
      "metadata": {
        "id": "09GO9dFMdYlc"
      },
      "source": [
        ""
      ],
      "execution_count": null,
      "outputs": []
    }
  ]
}